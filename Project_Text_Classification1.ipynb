{
 "cells": [
  {
   "cell_type": "code",
   "execution_count": 1,
   "metadata": {},
   "outputs": [],
   "source": [
    "#code used to generate X,Y and store X.txt and Y.txt\n",
    "import glob, os\n"
   ]
  },
  {
   "cell_type": "code",
   "execution_count": 2,
   "metadata": {},
   "outputs": [],
   "source": [
    "# I used below lines to generate the stop_words\n",
    "#from nltk.corpus import stopwords\n",
    "#sw = stopwords.words(\"english\")\n",
    "sw=['i', 'me', 'my', 'myself', 'we', 'our', 'ours', 'ourselves', 'you', \"you're\", \"you've\", \"you'll\", \"you'd\", 'your', 'yours', 'yourself', 'yourselves', 'he', 'him', 'his', 'himself', 'she', \"she's\", 'her', 'hers', 'herself', 'it', \"it's\", 'its', 'itself', 'they', 'them', 'their', 'theirs', 'themselves', 'what', 'which', 'who', 'whom', 'this', 'that', \"that'll\", 'these', 'those', 'am', 'is', 'are', 'was', 'were', 'be', 'been', 'being', 'have', 'has', 'had', 'having', 'do', 'does', 'did', 'doing', 'a', 'an', 'the', 'and', 'but', 'if', 'or', 'because', 'as', 'until', 'while', 'of', 'at', 'by', 'for', 'with', 'about', 'against', 'between', 'into', 'through', 'during', 'before', 'after', 'above', 'below', 'to', 'from', 'up', 'down', 'in', 'out', 'on', 'off', 'over', 'under', 'again', 'further', 'then', 'once', 'here', 'there', 'when', 'where', 'why', 'how', 'all', 'any', 'both', 'each', 'few', 'more', 'most', 'other', 'some', 'such', 'no', 'nor', 'not', 'only', 'own', 'same', 'so', 'than', 'too', 'very', 's', 't', 'can', 'will', 'just', 'don', \"don't\", 'should', \"should've\", 'now', 'd', 'll', 'm', 'o', 're', 've', 'y', 'ain', 'aren', \"aren't\", 'couldn', \"couldn't\", 'didn', \"didn't\", 'doesn', \"doesn't\", 'hadn', \"hadn't\", 'hasn', \"hasn't\", 'haven', \"haven't\", 'isn', \"isn't\", 'ma', 'mightn', \"mightn't\", 'mustn', \"mustn't\", 'needn', \"needn't\", 'shan', \"shan't\", 'shouldn', \"shouldn't\", 'wasn', \"wasn't\", 'weren', \"weren't\", 'won', \"won't\", 'wouldn', \"wouldn't\"]\n",
    "\n"
   ]
  },
  {
   "cell_type": "code",
   "execution_count": 3,
   "metadata": {},
   "outputs": [],
   "source": [
    "#to find the actual words\n",
    "import nltk \n",
    "import re\n",
    "from nltk.tokenize import word_tokenize "
   ]
  },
  {
   "cell_type": "code",
   "execution_count": 4,
   "metadata": {},
   "outputs": [],
   "source": [
    "#updates the dictionary for a single file\n",
    "def updateDictionary(file,words_dictionary):\n",
    "\n",
    "    file = open(file,newline='')\n",
    "    result = file.read()\n",
    "    words = word_tokenize(result)\n",
    "    for line in words:\n",
    "        # used regex to avoid invalid sequence of characters as english words\n",
    "        r1 = re.findall(r\"\\b([a-zA-Z]+)\\b\",line)\n",
    "        \n",
    "        for w in r1:\n",
    "                if (w.lower() in sw)==False:\n",
    "                    if w.lower() in words_dictionary:\n",
    "                        words_dictionary[w.lower()]=words_dictionary[w.lower()]+1\n",
    "                    else:\n",
    "                        words_dictionary[w.lower()]=1\n",
    "    \n",
    "    return words_dictionary"
   ]
  },
  {
   "cell_type": "code",
   "execution_count": 5,
   "metadata": {},
   "outputs": [],
   "source": [
    "Y_data=[0 for i in range(0,19997)] #initialized Y_data"
   ]
  },
  {
   "cell_type": "code",
   "execution_count": 6,
   "metadata": {},
   "outputs": [],
   "source": [
    "#returns list of files and labelled Y_data as 1 to 20 for each folder\n",
    "\n",
    "def getListOfFiles(dirName,cnt,Y_data):\n",
    "    # create a list of file and sub directories \n",
    "    # names in the given directory \n",
    "  \n",
    "    listOfFile = os.listdir(dirName)\n",
    "    allFiles = list()\n",
    "    # Iterate over all the entries\n",
    "    for entry in listOfFile:\n",
    "        # Create full path\n",
    "        fullPath = os.path.join(dirName, entry)\n",
    "        # If entry is a directory then get the list of files in this directory \n",
    "        if os.path.isdir(fullPath):\n",
    "            cnt=cnt+1\n",
    "            files_in_folder,Y_data=getListOfFiles(fullPath,cnt,Y_data)\n",
    "           \n",
    "            start=len(allFiles)\n",
    "            end=start+len(files_in_folder)\n",
    "           \n",
    "            for i in range(start,end):\n",
    "                Y_data[i]=cnt\n",
    "            allFiles = allFiles + files_in_folder\n",
    "            \n",
    "        else:\n",
    "            allFiles.append(fullPath)\n",
    "            \n",
    "    return allFiles,Y_data"
   ]
  },
  {
   "cell_type": "code",
   "execution_count": 7,
   "metadata": {},
   "outputs": [],
   "source": [
    "allFilesNames,Y_data=getListOfFiles('F:\\\\ML\\\\20_newsgroups(2)\\\\20_newsgroups',0,Y_data)\n"
   ]
  },
  {
   "cell_type": "code",
   "execution_count": 8,
   "metadata": {},
   "outputs": [],
   "source": [
    "def returnDictionary():\n",
    "    \n",
    "    words_dictionary={}\n",
    "    for file in allFilesNames:\n",
    "        words_dictionary=updateDictionary(file,words_dictionary)\n",
    "    return words_dictionary"
   ]
  },
  {
   "cell_type": "code",
   "execution_count": 9,
   "metadata": {},
   "outputs": [
    {
     "name": "stdout",
     "output_type": "stream",
     "text": [
      "106756\n"
     ]
    }
   ],
   "source": [
    "#initial dictionary\n",
    "complete_dict=returnDictionary()\n",
    "print(len(complete_dict))"
   ]
  },
  {
   "cell_type": "code",
   "execution_count": 10,
   "metadata": {},
   "outputs": [],
   "source": [
    "#sorting the dictionary using values\n",
    "import operator\n",
    "sorted_result = sorted(complete_dict.items(), key=operator.itemgetter(1))\n",
    "#pick top 3000 words\n",
    "\n",
    "sorted_result=sorted_result[-3001:-1]\n",
    "#sorted_result is a list of tuples, converted to dictionary\n",
    "dictionary = {k:v for k,v in sorted_result}\n"
   ]
  },
  {
   "cell_type": "code",
   "execution_count": 11,
   "metadata": {},
   "outputs": [],
   "source": [
    "# X= final input data\n",
    "\n",
    "X=[]\n",
    "\n",
    "#filling the values of Y\n",
    "Y=Y_data\n",
    "\n",
    "#constructing the dataset going through each and every file\n",
    "for file in allFilesNames:\n",
    "    file = open(file,newline='')\n",
    "    result = file.read()\n",
    "    words = word_tokenize(result)\n",
    "    x_row_file=[0 for i in range(0,3000)]\n",
    "    for line in words:\n",
    "\n",
    "        r1 = re.findall(r\"\\b([a-zA-Z]+)\\b\",line)\n",
    "        \n",
    "        for w in r1:\n",
    "                if not(w.lower() in dictionary):\n",
    "                    continue\n",
    "                else:\n",
    "                    x_row_file[list(dictionary).index(w.lower())]=x_row_file[list(dictionary).index(w.lower())]+1\n",
    "    X.append(x_row_file)\n",
    "        "
   ]
  },
  {
   "cell_type": "code",
   "execution_count": null,
   "metadata": {},
   "outputs": [],
   "source": [
    "import pickle\n",
    "\n",
    "\n",
    "with open(\"X.txt\", \"wb\") as fp:   #Pickling\n",
    "    pickle.dump(X, fp)\n",
    "with open(\"Y.txt\", \"wb\") as fp:   # Unpickling\n",
    "    pickle.dump(Y,fp)\n"
   ]
  }
 ],
 "metadata": {
  "kernelspec": {
   "display_name": "Python 3",
   "language": "python",
   "name": "python3"
  },
  "language_info": {
   "codemirror_mode": {
    "name": "ipython",
    "version": 3
   },
   "file_extension": ".py",
   "mimetype": "text/x-python",
   "name": "python",
   "nbconvert_exporter": "python",
   "pygments_lexer": "ipython3",
   "version": "3.7.0"
  }
 },
 "nbformat": 4,
 "nbformat_minor": 2
}
